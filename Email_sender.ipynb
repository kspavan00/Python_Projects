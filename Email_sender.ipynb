{
  "nbformat": 4,
  "nbformat_minor": 0,
  "metadata": {
    "colab": {
      "name": "Email_sender.ipynb",
      "provenance": [],
      "authorship_tag": "ABX9TyNFkzvUYXuRHyjc6/QN1/FM",
      "include_colab_link": true
    },
    "kernelspec": {
      "name": "python3",
      "display_name": "Python 3"
    }
  },
  "cells": [
    {
      "cell_type": "markdown",
      "metadata": {
        "id": "view-in-github",
        "colab_type": "text"
      },
      "source": [
        "<a href=\"https://colab.research.google.com/github/kspavan00/Python_Projects/blob/main/Email_sender.ipynb\" target=\"_parent\"><img src=\"https://colab.research.google.com/assets/colab-badge.svg\" alt=\"Open In Colab\"/></a>"
      ]
    },
    {
      "cell_type": "code",
      "metadata": {
        "colab": {
          "base_uri": "https://localhost:8080/"
        },
        "id": "BvdG5V1OSrwY",
        "outputId": "b88bb3dd-aafa-4a87-c191-008f2b0f054b"
      },
      "source": [
        "!pip install emails"
      ],
      "execution_count": null,
      "outputs": [
        {
          "output_type": "stream",
          "text": [
            "Requirement already satisfied: emails in /usr/local/lib/python3.7/dist-packages (0.6)\n",
            "Requirement already satisfied: requests in /usr/local/lib/python3.7/dist-packages (from emails) (2.23.0)\n",
            "Requirement already satisfied: lxml in /usr/local/lib/python3.7/dist-packages (from emails) (4.2.6)\n",
            "Requirement already satisfied: chardet in /usr/local/lib/python3.7/dist-packages (from emails) (3.0.4)\n",
            "Requirement already satisfied: premailer in /usr/local/lib/python3.7/dist-packages (from emails) (3.7.0)\n",
            "Requirement already satisfied: cssutils in /usr/local/lib/python3.7/dist-packages (from emails) (1.0.2)\n",
            "Requirement already satisfied: python-dateutil in /usr/local/lib/python3.7/dist-packages (from emails) (2.8.1)\n",
            "Requirement already satisfied: idna<3,>=2.5 in /usr/local/lib/python3.7/dist-packages (from requests->emails) (2.10)\n",
            "Requirement already satisfied: certifi>=2017.4.17 in /usr/local/lib/python3.7/dist-packages (from requests->emails) (2020.12.5)\n",
            "Requirement already satisfied: urllib3!=1.25.0,!=1.25.1,<1.26,>=1.21.1 in /usr/local/lib/python3.7/dist-packages (from requests->emails) (1.24.3)\n",
            "Requirement already satisfied: cachetools in /usr/local/lib/python3.7/dist-packages (from premailer->emails) (4.2.1)\n",
            "Requirement already satisfied: cssselect in /usr/local/lib/python3.7/dist-packages (from premailer->emails) (1.1.0)\n",
            "Requirement already satisfied: six>=1.5 in /usr/local/lib/python3.7/dist-packages (from python-dateutil->emails) (1.15.0)\n"
          ],
          "name": "stdout"
        }
      ]
    },
    {
      "cell_type": "code",
      "metadata": {
        "id": "kMO35EigS0IC"
      },
      "source": [
        "import emails"
      ],
      "execution_count": null,
      "outputs": []
    },
    {
      "cell_type": "code",
      "metadata": {
        "id": "fJpKwt7QTP91"
      },
      "source": [
        "html_msg = '''<p>Hey,</p>\r\n",
        "<p>This is KS</p>\r\n",
        "<p>my daily report:</p>\r\n",
        "<p>1) learned 2 new skills</p>\r\n",
        "<p>2) did exercise</p>\r\n",
        "<p>3) I am sending this through python XD</p> '''\r\n",
        "message = emails.html(html = html_msg, \r\n",
        "                      subject=\"daily routine\",\r\n",
        "                      mail_from = ('ks','xxx@yyymail.com'))\r\n",
        "\r\n"
      ],
      "execution_count": null,
      "outputs": []
    },
    {
      "cell_type": "code",
      "metadata": {
        "id": "uiIr95NhXSBM"
      },
      "source": [
        "mail_via_python = message.send(to = 'xxx@yyymail.com',\r\n",
        "                               smtp={\r\n",
        "                                   'host': 'smtp.gmail.com',\r\n",
        "                                   'timeout': 5,\r\n",
        "                                   'port': 587,\r\n",
        "                                   'user': 'xxx@yyymail.com',\r\n",
        "                                   'password': 'xxxxxxxxx',\r\n",
        "                                   'tls':True})"
      ],
      "execution_count": null,
      "outputs": []
    },
    {
      "cell_type": "code",
      "metadata": {
        "id": "hlj_05EAZH77"
      },
      "source": [
        "mail_via_python"
      ],
      "execution_count": null,
      "outputs": []
    }
  ]
}