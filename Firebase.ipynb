{
  "nbformat": 4,
  "nbformat_minor": 0,
  "metadata": {
    "colab": {
      "name": "Firebase.ipynb",
      "provenance": [],
      "toc_visible": true,
      "authorship_tag": "ABX9TyPtXuX2PChX7zQLAvT41X7Z",
      "include_colab_link": true
    },
    "kernelspec": {
      "name": "python3",
      "display_name": "Python 3"
    }
  },
  "cells": [
    {
      "cell_type": "markdown",
      "metadata": {
        "id": "view-in-github",
        "colab_type": "text"
      },
      "source": [
        "<a href=\"https://colab.research.google.com/github/kspavan00/Python_Projects/blob/main/Firebase.ipynb\" target=\"_parent\"><img src=\"https://colab.research.google.com/assets/colab-badge.svg\" alt=\"Open In Colab\"/></a>"
      ]
    },
    {
      "cell_type": "code",
      "metadata": {
        "id": "uatJsO7vsykL"
      },
      "source": [
        "import firebase_admin"
      ],
      "execution_count": 1,
      "outputs": []
    },
    {
      "cell_type": "code",
      "metadata": {
        "id": "B7bs8Tdws-0t"
      },
      "source": [
        "from firebase_admin import credentials, auth, firestore"
      ],
      "execution_count": 2,
      "outputs": []
    },
    {
      "cell_type": "code",
      "metadata": {
        "id": "PnI30JyetNxP"
      },
      "source": [
        "cred = credentials.Certificate(\"/content/certification-test-612d4-firebase-adminsdk-4gywf-da4687781b.json\")\r\n",
        "firebase_app = firebase_admin.initialize_app(cred)\r\n",
        "store = firestore.client()"
      ],
      "execution_count": 3,
      "outputs": []
    },
    {
      "cell_type": "code",
      "metadata": {
        "id": "9C0_SbnEuTfD"
      },
      "source": [
        "docs = store.collection(\"test\").stream()"
      ],
      "execution_count": 4,
      "outputs": []
    },
    {
      "cell_type": "code",
      "metadata": {
        "colab": {
          "base_uri": "https://localhost:8080/"
        },
        "id": "0oEJI92VudMj",
        "outputId": "b96e06ba-b600-475e-826d-3dd98ff514c5"
      },
      "source": [
        "for item in docs:\r\n",
        "  print(item.to_dict())"
      ],
      "execution_count": 5,
      "outputs": [
        {
          "output_type": "stream",
          "text": [
            "{'name': 'Hems'}\n",
            "{'name': 'KS Pavan'}\n"
          ],
          "name": "stdout"
        }
      ]
    },
    {
      "cell_type": "code",
      "metadata": {
        "colab": {
          "base_uri": "https://localhost:8080/"
        },
        "id": "zZl0ORgyuly6",
        "outputId": "3897fdf3-96dd-42c1-9fab-a083cc7b2a0b"
      },
      "source": [
        "store.collection('gg').add({'project number':3})"
      ],
      "execution_count": 6,
      "outputs": [
        {
          "output_type": "execute_result",
          "data": {
            "text/plain": [
              "(seconds: 1614517479\n",
              " nanos: 889096000,\n",
              " <google.cloud.firestore_v1.document.DocumentReference at 0x7efd6a369050>)"
            ]
          },
          "metadata": {
            "tags": []
          },
          "execution_count": 6
        }
      ]
    }
  ]
}